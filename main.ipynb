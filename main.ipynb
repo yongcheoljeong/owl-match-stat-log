{
 "metadata": {
  "language_info": {
   "codemirror_mode": {
    "name": "ipython",
    "version": 3
   },
   "file_extension": ".py",
   "mimetype": "text/x-python",
   "name": "python",
   "nbconvert_exporter": "python",
   "pygments_lexer": "ipython3",
   "version": "3.7.9-final"
  },
  "orig_nbformat": 2,
  "kernelspec": {
   "name": "python379jvsc74a57bd038e778ec9b46f150f7def600b4936b3e96b2bd9fb9bb7d407a503baa85be6239",
   "display_name": "Python 3.7.9 64-bit ('owl-data': conda)"
  }
 },
 "nbformat": 4,
 "nbformat_minor": 2,
 "cells": [
  {
   "cell_type": "code",
   "execution_count": 1,
   "metadata": {},
   "outputs": [],
   "source": [
    "import pandas as pd \n",
    "import numpy as np \n",
    "import glob\n",
    "from tqdm import tqdm\n",
    "from ScrimLog import *\n",
    "from PeriEventTimeHistogram import *"
   ]
  },
  {
   "cell_type": "code",
   "execution_count": 2,
   "metadata": {
    "tags": []
   },
   "outputs": [
    {
     "output_type": "stream",
     "name": "stdout",
     "text": [
      "File Exported to scrim_finalstat: 20210414_01_O2_Blizzard World.csv\n",
      "File Exported to scrim_finalstat: 20210414_01_O2_Dorado.csv\n"
     ]
    }
   ],
   "source": [
    "# FinalStat\n",
    "# scrim_csv = ScrimLog().update_FinalStat_to_csv()\n",
    "scrim_sql = ScrimLog().update_FinalStat_to_sql()"
   ]
  },
  {
   "cell_type": "code",
   "execution_count": 3,
   "metadata": {
    "tags": []
   },
   "outputs": [
    {
     "output_type": "stream",
     "name": "stdout",
     "text": [
      "File Exported to scrim_peth: 20210414_01_o2_blizzard world_CD1%\n",
      "File Exported to scrim_peth: 20210414_01_o2_dorado_CD1%\n",
      "File Exported to scrim_peth: 20210414_01_o2_blizzard world_CD2%\n",
      "File Exported to scrim_peth: 20210414_01_o2_dorado_CD2%\n",
      "File Exported to scrim_peth: 20210414_01_o2_blizzard world_UltU\n",
      "File Exported to scrim_peth: 20210414_01_o2_dorado_UltU\n",
      "File Exported to scrim_peth: 20210414_01_o2_blizzard world_CD2nd%\n",
      "File Exported to scrim_peth: 20210414_01_o2_dorado_CD2nd%\n",
      "File Exported to scrim_peth: 20210414_01_o2_blizzard world_CDCtrl%\n",
      "File Exported to scrim_peth: 20210414_01_o2_dorado_CDCtrl%\n",
      "File Exported to scrim_peth: 20210414_01_o2_blizzard world_FB\n",
      "File Exported to scrim_peth: 20210414_01_o2_dorado_FB\n"
     ]
    }
   ],
   "source": [
    "# 'Shift' Skill\n",
    "cooldown1 = PETH()\n",
    "cooldown1.set_search_condition(event_name='Cooldown1%/s', threshold=0.01)\n",
    "cooldown1.update_PETH_to_sql()\n",
    "\n",
    "# 'E' Skill\n",
    "cooldown2 = PETH()\n",
    "cooldown2.set_search_condition(event_name='Cooldown2%/s', threshold=0.01)\n",
    "cooldown2.update_PETH_to_sql()\n",
    "\n",
    "# 'Q' Skill\n",
    "UU = PETH()\n",
    "UU.set_search_condition(event_name='UltimatesUsed/s', threshold=1)\n",
    "UU.update_PETH_to_sql()\n",
    "\n",
    "# 'R click' Skill\n",
    "cooldownSecondaryFire = PETH()\n",
    "cooldownSecondaryFire.set_search_condition(event_name='CooldownSecondaryFire%/s', threshold=0.01)\n",
    "cooldownSecondaryFire.update_PETH_to_sql()\n",
    "\n",
    "# 'Ctrl' Skill\n",
    "cooldownCrouching = PETH()\n",
    "cooldownCrouching.set_search_condition(event_name='CooldownCrouching%/s', threshold=0.01)\n",
    "cooldownCrouching.update_PETH_to_sql()\n",
    "\n",
    "# 'FB'\n",
    "FB = PETH()\n",
    "FB.set_search_condition(event_name='FinalBlows/s', threshold=1)\n",
    "FB.update_PETH_to_sql()"
   ]
  }
 ]
}