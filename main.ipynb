{
 "metadata": {
  "language_info": {
   "codemirror_mode": {
    "name": "ipython",
    "version": 3
   },
   "file_extension": ".py",
   "mimetype": "text/x-python",
   "name": "python",
   "nbconvert_exporter": "python",
   "pygments_lexer": "ipython3",
   "version": "3.8.5"
  },
  "orig_nbformat": 2,
  "kernelspec": {
   "name": "python3",
   "display_name": "Python 3.8.5 64-bit ('base': conda)"
  },
  "interpreter": {
   "hash": "10bab76ca3a792500c84cf15e41f41f3b47c84305661022fd44a3b2beb095cfa"
  }
 },
 "nbformat": 4,
 "nbformat_minor": 2,
 "cells": [
  {
   "cell_type": "code",
   "execution_count": 1,
   "source": [
    "import Match_Scrim_Trans_Info\r\n",
    "from MySQLConnection import *\r\n",
    "import pandas as pd \r\n",
    "import numpy as np \r\n",
    "import mysql_auth\r\n",
    "from MatchLog import *\r\n",
    "from PeriEventTimeHistogram import *"
   ],
   "outputs": [],
   "metadata": {}
  },
  {
   "cell_type": "code",
   "execution_count": 2,
   "source": [
    "# FinalStat\r\n",
    "match_sql = MatchLog().update_FinalStat_to_sql(if_exists='pass') # if you want to replace the previous tables, use if_exists='replace'"
   ],
   "outputs": [
    {
     "output_type": "stream",
     "name": "stdout",
     "text": [
      "FinalStat Exported: match_37341\n",
      "FinalStat Exported: match_37362\n",
      "FinalStat Exported: match_37366\n",
      "FinalStat Exported: match_37346\n",
      "FinalStat Exported: match_37363\n",
      "FinalStat Exported: match_37343\n",
      "FinalStat Exported: match_37345\n",
      "FinalStat Exported: match_37344\n",
      "FinalStat Exported: match_37339\n",
      "FinalStat Exported: match_37361\n",
      "FinalStat Exported: match_37364\n",
      "FinalStat Exported: match_37342\n",
      "FinalStat Exported: match_37365\n",
      "FinalStat Exported: match_37340\n"
     ]
    }
   ],
   "metadata": {
    "tags": []
   }
  },
  {
   "cell_type": "code",
   "execution_count": 3,
   "source": [
    "# 'Q' skill\r\n",
    "UU = PETH()\r\n",
    "UU.set_search_condition(event_name='UltimatesUsed/s', threshold=1)\r\n",
    "UU.update_PETH_to_sql(if_exists='fail')\r\n",
    "\r\n",
    "# # 'FB'\r\n",
    "# FB = PETH()\r\n",
    "# FB.set_search_condition(event_name='FinalBlows/s', threshold=1)\r\n",
    "# FB.update_PETH_to_sql(if_exists='replace')"
   ],
   "outputs": [
    {
     "output_type": "stream",
     "name": "stdout",
     "text": [
      "File Exported to esd_peth: match_37339_UltU\n",
      "File Exported to esd_peth: match_37340_UltU\n",
      "File Exported to esd_peth: match_37341_UltU\n",
      "File Exported to esd_peth: match_37342_UltU\n",
      "File Exported to esd_peth: match_37343_UltU\n",
      "File Exported to esd_peth: match_37344_UltU\n",
      "File Exported to esd_peth: match_37345_UltU\n",
      "File Exported to esd_peth: match_37346_UltU\n",
      "File Exported to esd_peth: match_37361_UltU\n",
      "File Exported to esd_peth: match_37362_UltU\n",
      "File Exported to esd_peth: match_37363_UltU\n",
      "File Exported to esd_peth: match_37364_UltU\n",
      "File Exported to esd_peth: match_37365_UltU\n",
      "File Exported to esd_peth: match_37366_UltU\n"
     ]
    }
   ],
   "metadata": {}
  }
 ]
}