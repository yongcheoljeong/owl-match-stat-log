{
 "metadata": {
  "language_info": {
   "codemirror_mode": {
    "name": "ipython",
    "version": 3
   },
   "file_extension": ".py",
   "mimetype": "text/x-python",
   "name": "python",
   "nbconvert_exporter": "python",
   "pygments_lexer": "ipython3",
   "version": "3.8.5"
  },
  "orig_nbformat": 2,
  "kernelspec": {
   "name": "python385jvsc74a57bd010bab76ca3a792500c84cf15e41f41f3b47c84305661022fd44a3b2beb095cfa",
   "display_name": "Python 3.8.5 64-bit (conda)"
  }
 },
 "nbformat": 4,
 "nbformat_minor": 2,
 "cells": [
  {
   "cell_type": "code",
   "execution_count": 1,
   "metadata": {},
   "outputs": [],
   "source": [
    "import Match_Scrim_Trans_Info\n",
    "from MySQLConnection import *\n",
    "import pandas as pd \n",
    "import numpy as np \n",
    "import mysql_auth\n",
    "from MatchLog import *\n",
    "from PeriEventTimeHistogram import *"
   ]
  },
  {
   "cell_type": "code",
   "execution_count": 2,
   "metadata": {
    "tags": []
   },
   "outputs": [
    {
     "output_type": "stream",
     "name": "stdout",
     "text": [
      "FinalStat Exported: match_37244\n",
      "FinalStat Exported: match_37246\n",
      "FinalStat Exported: match_37243\n",
      "FinalStat Exported: match_37150\n",
      "FinalStat Exported: match_37214\n",
      "FinalStat Exported: match_37381\n",
      "FinalStat Exported: match_37382\n",
      "FinalStat Exported: match_37218\n",
      "FinalStat Exported: match_37241\n",
      "FinalStat Exported: match_37245\n",
      "FinalStat Exported: match_37217\n",
      "FinalStat Exported: match_37212\n",
      "FinalStat Exported: match_37213\n",
      "FinalStat Exported: match_37148\n",
      "FinalStat Exported: match_37216\n",
      "FinalStat Exported: match_37215\n",
      "FinalStat Exported: match_37147\n",
      "FinalStat Exported: match_37211\n",
      "FinalStat Exported: match_37242\n",
      "FinalStat Exported: match_37149\n"
     ]
    }
   ],
   "source": [
    "# FinalStat\n",
    "match_sql = MatchLog().update_FinalStat_to_sql(if_exists='pass') # if you want to replace the previous tables, use if_exists='replace'"
   ]
  },
  {
   "cell_type": "code",
   "execution_count": 3,
   "metadata": {},
   "outputs": [
    {
     "output_type": "stream",
     "name": "stdout",
     "text": [
      "File Exported to esd_peth: match_37147_UltU\n",
      "File Exported to esd_peth: match_37148_UltU\n",
      "File Exported to esd_peth: match_37149_UltU\n",
      "File Exported to esd_peth: match_37150_UltU\n",
      "File Exported to esd_peth: match_37211_UltU\n",
      "File Exported to esd_peth: match_37212_UltU\n",
      "File Exported to esd_peth: match_37213_UltU\n",
      "File Exported to esd_peth: match_37214_UltU\n",
      "File Exported to esd_peth: match_37215_UltU\n",
      "File Exported to esd_peth: match_37216_UltU\n",
      "File Exported to esd_peth: match_37217_UltU\n",
      "File Exported to esd_peth: match_37218_UltU\n",
      "File Exported to esd_peth: match_37219_UltU\n",
      "File Exported to esd_peth: match_37220_UltU\n",
      "File Exported to esd_peth: match_37221_UltU\n",
      "File Exported to esd_peth: match_37222_UltU\n",
      "File Exported to esd_peth: match_37223_UltU\n",
      "File Exported to esd_peth: match_37224_UltU\n",
      "File Exported to esd_peth: match_37225_UltU\n",
      "File Exported to esd_peth: match_37226_UltU\n",
      "File Exported to esd_peth: match_37227_UltU\n",
      "File Exported to esd_peth: match_37228_UltU\n",
      "File Exported to esd_peth: match_37229_UltU\n",
      "File Exported to esd_peth: match_37230_UltU\n",
      "File Exported to esd_peth: match_37231_UltU\n",
      "File Exported to esd_peth: match_37232_UltU\n",
      "File Exported to esd_peth: match_37233_UltU\n",
      "File Exported to esd_peth: match_37234_UltU\n",
      "File Exported to esd_peth: match_37241_UltU\n",
      "File Exported to esd_peth: match_37242_UltU\n",
      "File Exported to esd_peth: match_37243_UltU\n",
      "File Exported to esd_peth: match_37244_UltU\n",
      "File Exported to esd_peth: match_37245_UltU\n",
      "File Exported to esd_peth: match_37246_UltU\n",
      "File Exported to esd_peth: match_37247_UltU\n",
      "File Exported to esd_peth: match_37248_UltU\n",
      "File Exported to esd_peth: match_37249_UltU\n",
      "File Exported to esd_peth: match_37250_UltU\n",
      "File Exported to esd_peth: match_37251_UltU\n",
      "File Exported to esd_peth: match_37252_UltU\n",
      "File Exported to esd_peth: match_37253_UltU\n",
      "File Exported to esd_peth: match_37254_UltU\n",
      "File Exported to esd_peth: match_37255_UltU\n",
      "File Exported to esd_peth: match_37256_UltU\n",
      "File Exported to esd_peth: match_37381_UltU\n",
      "File Exported to esd_peth: match_37382_UltU\n"
     ]
    }
   ],
   "source": [
    "# 'Q' skill\n",
    "UU = PETH()\n",
    "UU.set_search_condition(event_name='UltimatesUsed/s', threshold=1)\n",
    "UU.update_PETH_to_sql(if_exists='replace')\n",
    "\n",
    "# # 'FB'\n",
    "# FB = PETH()\n",
    "# FB.set_search_condition(event_name='FinalBlows/s', threshold=1)\n",
    "# FB.update_PETH_to_sql(if_exists='replace')"
   ]
  }
 ]
}